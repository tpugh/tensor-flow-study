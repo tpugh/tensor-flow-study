{
  "nbformat": 4,
  "nbformat_minor": 0,
  "metadata": {
    "colab": {
      "name": "quickStartTensorFlow.ipynb",
      "provenance": []
    },
    "kernelspec": {
      "name": "python3",
      "display_name": "Python 3"
    },
    "language_info": {
      "name": "python"
    }
  },
  "cells": [
    {
      "cell_type": "code",
      "metadata": {
        "colab": {
          "base_uri": "https://localhost:8080/"
        },
        "id": "Yt-6WSctOVnz",
        "outputId": "dbd9d349-85ed-48bf-d11c-f03263842aec"
      },
      "source": [
        "import tensorflow as tf\n",
        "print(\"TensorFlow version:\", tf.__version__)"
      ],
      "execution_count": 3,
      "outputs": [
        {
          "output_type": "stream",
          "name": "stdout",
          "text": [
            "TensorFlow version: 2.6.0\n"
          ]
        }
      ]
    },
    {
      "cell_type": "code",
      "metadata": {
        "colab": {
          "base_uri": "https://localhost:8080/"
        },
        "id": "66-yjFoAOhx1",
        "outputId": "34019c48-fb3c-460f-f280-a61f19822a7f"
      },
      "source": [
        "mnist = tf.keras.datasets.mnist\n",
        "\n",
        "(x_train, y_train), (x_test, y_test) = mnist.load_data()\n",
        "x_train, x_test = x_train / 255.0, x_test / 255.0"
      ],
      "execution_count": 5,
      "outputs": [
        {
          "output_type": "stream",
          "name": "stdout",
          "text": [
            "Downloading data from https://storage.googleapis.com/tensorflow/tf-keras-datasets/mnist.npz\n",
            "11493376/11490434 [==============================] - 0s 0us/step\n",
            "11501568/11490434 [==============================] - 0s 0us/step\n"
          ]
        }
      ]
    },
    {
      "cell_type": "code",
      "metadata": {
        "id": "NUxCPeeKPfBE"
      },
      "source": [
        "model = tf.keras.models.Sequential([\n",
        "    tf. keras.layers.Flatten(input_shape=(28, 28)),\n",
        "    tf.keras.layers.Dense(128, activation='relu'),\n",
        "    tf.keras.layers.Dropout(0.2),\n",
        "    tf.keras.layers.Dense(10)\n",
        "])"
      ],
      "execution_count": 6,
      "outputs": []
    },
    {
      "cell_type": "code",
      "metadata": {
        "colab": {
          "base_uri": "https://localhost:8080/"
        },
        "id": "dVC5bs7GSVEC",
        "outputId": "9a3b8a96-174d-4e3d-d66d-0c5aa8bc336b"
      },
      "source": [
        "predictions = model(x_train[:1]).numpy()\n",
        "predictions"
      ],
      "execution_count": 7,
      "outputs": [
        {
          "output_type": "execute_result",
          "data": {
            "text/plain": [
              "array([[-0.34801012, -0.09819149,  0.14100038, -0.46497607, -0.37989208,\n",
              "         0.38738745, -0.0389876 ,  0.18660767,  0.14678788,  0.0915949 ]],\n",
              "      dtype=float32)"
            ]
          },
          "metadata": {},
          "execution_count": 7
        }
      ]
    },
    {
      "cell_type": "code",
      "metadata": {
        "colab": {
          "base_uri": "https://localhost:8080/"
        },
        "id": "N9wco49fSsHO",
        "outputId": "48261ed0-c714-439d-df8a-a2da31528098"
      },
      "source": [
        "tf.nn.softmax(predictions).numpy()"
      ],
      "execution_count": 8,
      "outputs": [
        {
          "output_type": "execute_result",
          "data": {
            "text/plain": [
              "array([[0.07082057, 0.09091891, 0.11548723, 0.06300307, 0.06859829,\n",
              "        0.14775375, 0.0964642 , 0.12087625, 0.11615755, 0.10992017]],\n",
              "      dtype=float32)"
            ]
          },
          "metadata": {},
          "execution_count": 8
        }
      ]
    },
    {
      "cell_type": "code",
      "metadata": {
        "id": "IobI62TcUnRS"
      },
      "source": [
        "loss_fn = tf.keras.losses.SparseCategoricalCrossentropy(from_logits=True)"
      ],
      "execution_count": 9,
      "outputs": []
    },
    {
      "cell_type": "code",
      "metadata": {
        "colab": {
          "base_uri": "https://localhost:8080/"
        },
        "id": "JWCIk4YkUwfl",
        "outputId": "06143416-69ff-4ab7-9260-6638ee6f0a5b"
      },
      "source": [
        "loss_fn(y_train[:1], predictions).numpy()"
      ],
      "execution_count": 10,
      "outputs": [
        {
          "output_type": "execute_result",
          "data": {
            "text/plain": [
              "1.9122082"
            ]
          },
          "metadata": {},
          "execution_count": 10
        }
      ]
    },
    {
      "cell_type": "code",
      "metadata": {
        "id": "0xdVQYmCVCMM"
      },
      "source": [
        "model.compile(optimizer='adam',\n",
        "              loss=loss_fn,\n",
        "              metrics=['accuracy'])"
      ],
      "execution_count": 12,
      "outputs": []
    },
    {
      "cell_type": "code",
      "metadata": {
        "colab": {
          "base_uri": "https://localhost:8080/"
        },
        "id": "pQlAYml1VYZI",
        "outputId": "170f6bb5-c82a-4649-f4b6-8a197c42d6a1"
      },
      "source": [
        "model.fit(x_train, y_train, epochs=5)"
      ],
      "execution_count": 13,
      "outputs": [
        {
          "output_type": "stream",
          "name": "stdout",
          "text": [
            "Epoch 1/5\n",
            "1875/1875 [==============================] - 4s 2ms/step - loss: 0.2937 - accuracy: 0.9154\n",
            "Epoch 2/5\n",
            "1875/1875 [==============================] - 3s 2ms/step - loss: 0.1447 - accuracy: 0.9571\n",
            "Epoch 3/5\n",
            "1875/1875 [==============================] - 3s 2ms/step - loss: 0.1055 - accuracy: 0.9687\n",
            "Epoch 4/5\n",
            "1875/1875 [==============================] - 3s 2ms/step - loss: 0.0885 - accuracy: 0.9726\n",
            "Epoch 5/5\n",
            "1875/1875 [==============================] - 3s 2ms/step - loss: 0.0750 - accuracy: 0.9765\n"
          ]
        },
        {
          "output_type": "execute_result",
          "data": {
            "text/plain": [
              "<keras.callbacks.History at 0x7f12c7b66650>"
            ]
          },
          "metadata": {},
          "execution_count": 13
        }
      ]
    },
    {
      "cell_type": "code",
      "metadata": {
        "colab": {
          "base_uri": "https://localhost:8080/"
        },
        "id": "SdFiO9CLV8m9",
        "outputId": "ff44f824-2121-43df-d8f3-1b2842ea20c5"
      },
      "source": [
        "model.evaluate(x_test, y_test, verbose=2)"
      ],
      "execution_count": 15,
      "outputs": [
        {
          "output_type": "stream",
          "name": "stdout",
          "text": [
            "313/313 - 0s - loss: 0.0711 - accuracy: 0.9779\n"
          ]
        },
        {
          "output_type": "execute_result",
          "data": {
            "text/plain": [
              "[0.07111598551273346, 0.9779000282287598]"
            ]
          },
          "metadata": {},
          "execution_count": 15
        }
      ]
    },
    {
      "cell_type": "code",
      "metadata": {
        "id": "nijhbG9cWVjT"
      },
      "source": [
        "probability_model = tf.keras.Sequential([\n",
        "    model,\n",
        "    tf.keras.layers.Softmax()\n",
        "])"
      ],
      "execution_count": 16,
      "outputs": []
    },
    {
      "cell_type": "code",
      "metadata": {
        "colab": {
          "base_uri": "https://localhost:8080/"
        },
        "id": "t2vAgg9KYFQ_",
        "outputId": "b6f66522-b927-45e2-865c-115c2a7f053a"
      },
      "source": [
        "probability_model(x_test[:5])"
      ],
      "execution_count": 17,
      "outputs": [
        {
          "output_type": "execute_result",
          "data": {
            "text/plain": [
              "<tf.Tensor: shape=(5, 10), dtype=float32, numpy=\n",
              "array([[5.6378706e-08, 6.2096563e-09, 9.5283040e-06, 6.8559026e-04,\n",
              "        2.8709080e-10, 2.9729647e-06, 2.5280120e-13, 9.9928999e-01,\n",
              "        2.5258979e-08, 1.1864603e-05],\n",
              "       [2.6473243e-08, 2.0107802e-05, 9.9992645e-01, 5.1235984e-05,\n",
              "        4.7788307e-16, 2.3729366e-07, 1.3862861e-08, 5.8424283e-16,\n",
              "        1.8944220e-06, 3.5644573e-12],\n",
              "       [1.6544699e-07, 9.9939883e-01, 7.1674498e-05, 3.9278898e-06,\n",
              "        7.2467274e-06, 1.2375223e-06, 1.1438308e-05, 3.2440235e-04,\n",
              "        1.7863182e-04, 2.4543449e-06],\n",
              "       [9.9994481e-01, 5.2975008e-10, 1.8812376e-05, 2.0808730e-07,\n",
              "        3.5232054e-07, 5.1630116e-07, 1.5200686e-06, 3.1620297e-05,\n",
              "        1.7160302e-09, 2.1342753e-06],\n",
              "       [3.4061316e-06, 3.4276657e-09, 1.4070274e-06, 1.5491374e-08,\n",
              "        9.9474585e-01, 8.1425657e-07, 6.4863893e-06, 9.4367373e-05,\n",
              "        1.6615706e-07, 5.1474143e-03]], dtype=float32)>"
            ]
          },
          "metadata": {},
          "execution_count": 17
        }
      ]
    }
  ]
}
